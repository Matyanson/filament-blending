{
 "cells": [
  {
   "cell_type": "markdown",
   "id": "f8a2d876",
   "metadata": {},
   "source": [
    "## Paper white\n",
    "rgb(239, 241, 244) lab(95, 0, -2) https://doi.org/10.1063/5.0026743\n",
    "old paper: https://www.color-hex.com/color-palette/104061\n",
    "\n",
    "RGB(249, 251, 255) or RGB(238, 238, 238)"
   ]
  },
  {
   "cell_type": "code",
   "execution_count": null,
   "id": "c4b04617",
   "metadata": {},
   "outputs": [
    {
     "ename": "SyntaxError",
     "evalue": "closing parenthesis '}' does not match opening parenthesis '(' on line 3 (831342451.py, line 20)",
     "output_type": "error",
     "traceback": [
      "  \u001b[36mCell\u001b[39m\u001b[36m \u001b[39m\u001b[32mIn[1]\u001b[39m\u001b[32m, line 20\u001b[39m\n\u001b[31m    \u001b[39m\u001b[31m}\u001b[39m\n    ^\n\u001b[31mSyntaxError\u001b[39m\u001b[31m:\u001b[39m closing parenthesis '}' does not match opening parenthesis '(' on line 3\n"
     ]
    }
   ],
   "source": [
    "function hexToRgbNormalized(hex) {\n",
    "    // Remove the leading # if present\n",
    "    hex = hex.replace(/^#/, '');\n",
    "\n",
    "    // Expand shorthand (e.g. \"03F\") to full form (e.g. \"0033FF\")\n",
    "    if (hex.length === 3) {\n",
    "        hex = hex.split('').map(c => c + c).join('');\n",
    "    }\n",
    "\n",
    "    if (hex.length !== 6) {\n",
    "        throw new Error('Invalid hex color format.');\n",
    "    }\n",
    "\n",
    "    // Convert each pair to a decimal number and normalize to [0, 1]\n",
    "    const r = parseInt(hex.slice(0, 2), 16) / 255;\n",
    "    const g = parseInt(hex.slice(2, 4), 16) / 255;\n",
    "    const b = parseInt(hex.slice(4, 6), 16) / 255;\n",
    "\n",
    "    return { r, g, b };\n",
    "}"
   ]
  }
 ],
 "metadata": {
  "kernelspec": {
   "display_name": "Python 3",
   "language": "python",
   "name": "python3"
  },
  "language_info": {
   "codemirror_mode": {
    "name": "ipython",
    "version": 3
   },
   "file_extension": ".py",
   "mimetype": "text/x-python",
   "name": "python",
   "nbconvert_exporter": "python",
   "pygments_lexer": "ipython3",
   "version": "3.12.8"
  }
 },
 "nbformat": 4,
 "nbformat_minor": 5
}
