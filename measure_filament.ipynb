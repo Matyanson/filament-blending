{
 "cells": [
  {
   "cell_type": "markdown",
   "id": "f8a2d876",
   "metadata": {},
   "source": [
    "## Paper white\n",
    "rgb(239, 241, 244) lab(95, 0, -2) https://doi.org/10.1063/5.0026743\n",
    "old paper: https://www.color-hex.com/color-palette/104061\n",
    "\n",
    "RGB(249, 251, 255) or RGB(238, 238, 238)"
   ]
  }
 ],
 "metadata": {
  "language_info": {
   "name": "python"
  }
 },
 "nbformat": 4,
 "nbformat_minor": 5
}
