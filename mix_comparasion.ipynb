{
 "cells": [
  {
   "cell_type": "code",
   "execution_count": null,
   "id": "1dbfc36e",
   "metadata": {},
   "outputs": [],
   "source": [
    "%pip install ipywidgets"
   ]
  },
  {
   "cell_type": "code",
   "execution_count": null,
   "id": "f3ef1e86",
   "metadata": {},
   "outputs": [
    {
     "data": {
      "application/vnd.jupyter.widget-view+json": {
       "model_id": "e945995c69bb469f86169ec47494ce59",
       "version_major": 2,
       "version_minor": 0
      },
      "text/plain": [
       "interactive(children=(FloatSlider(value=0.75, description='Mix 1', max=1.0, step=0.01), FloatSlider(value=0.8,…"
      ]
     },
     "metadata": {},
     "output_type": "display_data"
    }
   ],
   "source": [
    "import numpy as np\n",
    "import matplotlib.pyplot as plt\n",
    "from ipywidgets import interact, FloatSlider\n",
    "from IPython.display import display\n",
    "\n",
    "# Define your two colors here as RGB in 0–255 range\n",
    "color_a = (16, 153, 148)   # Red\n",
    "color_b = (165, 166, 163)   # Blue\n",
    "\n",
    "# Convert to 0–1 range for matplotlib\n",
    "color_a = np.array(color_a) / 255\n",
    "color_b = np.array(color_b) / 255\n",
    "\n",
    "def mix_colors(c1, c2, ratio):\n",
    "    \"\"\"Mix two colors with ratio for c1 (from 0.0 to 1.0).\"\"\"\n",
    "    return c1 * ratio + c2 * (1 - ratio)\n",
    "\n",
    "def display_mixes(ratio1=0.75, ratio2=0.80):\n",
    "    mixed1 = mix_colors(color_a, color_b, ratio1)\n",
    "    mixed2 = mix_colors(color_a, color_b, ratio2)\n",
    "    \n",
    "    fig, axes = plt.subplots(1, 2, figsize=(6, 2))\n",
    "    \n",
    "    axes[0].imshow(np.ones((10, 10, 3)) * mixed1)\n",
    "    axes[0].set_title(f\"Mix 1: {int(ratio1*100)}% A / {int((1-ratio1)*100)}% B\")\n",
    "    axes[0].axis('off')\n",
    "    \n",
    "    axes[1].imshow(np.ones((10, 10, 3)) * mixed2)\n",
    "    axes[1].set_title(f\"Mix 2: {int(ratio2*100)}% A / {int((1-ratio2)*100)}% B\")\n",
    "    axes[1].axis('off')\n",
    "    \n",
    "    plt.tight_layout()\n",
    "    plt.show()\n",
    "\n",
    "# Interactive sliders\n",
    "interact(display_mixes,\n",
    "         ratio1=FloatSlider(value=0.75, min=0, max=1.0, step=0.01, description='Mix 1'),\n",
    "         ratio2=FloatSlider(value=0.80, min=0, max=1.0, step=0.01, description='Mix 2'));\n"
   ]
  }
 ],
 "metadata": {
  "kernelspec": {
   "display_name": "Python 3",
   "language": "python",
   "name": "python3"
  },
  "language_info": {
   "codemirror_mode": {
    "name": "ipython",
    "version": 3
   },
   "file_extension": ".py",
   "mimetype": "text/x-python",
   "name": "python",
   "nbconvert_exporter": "python",
   "pygments_lexer": "ipython3",
   "version": "3.12.8"
  }
 },
 "nbformat": 4,
 "nbformat_minor": 5
}
