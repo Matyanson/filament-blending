{
 "cells": [
  {
   "cell_type": "code",
   "execution_count": 2,
   "id": "2ec939e0",
   "metadata": {},
   "outputs": [
    {
     "data": {
      "image/png": "[encoded data removed]",
      "text/plain": [
       "<Figure size 400x200 with 2 Axes>"
      ]
     },
     "metadata": {},
     "output_type": "display_data"
    },
    {
     "data": {
      "image/png": "[encoded data removed]",
      "text/plain": [
       "<Figure size 200x333.333 with 1 Axes>"
      ]
     },
     "metadata": {},
     "output_type": "display_data"
    }
   ],
   "source": [
    "import numpy as np\n",
    "import matplotlib.pyplot as plt\n",
    "\n",
    "# 1) Define available filaments (RGB in [0..1], alpha in [0..1])\n",
    "filaments = {\n",
    "    'black': {\n",
    "        'rgb': [0.0, 0.0, 0.0],\n",
    "        'alpha': 0.15,   # very translucent black\n",
    "    },\n",
    "    'blue': {\n",
    "        'rgb': [0.0, 0.0, 1.0],\n",
    "        'alpha': 0.25,   # semi-transparent blue\n",
    "    },\n",
    "    'green': {\n",
    "        'rgb': [0.0, 1.0, 0.0],\n",
    "        'alpha': 0.20,   # semi-transparent green\n",
    "    },\n",
    "    'red': {\n",
    "        'rgb': [1.0, 0.0, 0.0],\n",
    "        'alpha': 0.30,   # fairly translucent red\n",
    "    },\n",
    "    'white': {\n",
    "        'rgb': [1.0, 1.0, 1.0],\n",
    "        'alpha': 0.10,   # almost completely transparent white\n",
    "    },\n",
    "}\n",
    "\n",
    "# 2) Choose a base color (underneath layer 0)\n",
    "base_color = [1.0, 1.0, 1.0]  # white background\n",
    "\n",
    "# 3) Define a target color for comparison\n",
    "target_color = [0.0, 0.5, 0.5]  # custom teal\n",
    "\n",
    "# 4) Define how you stack: a list of (filament_name, thickness) from bottom → top\n",
    "stack_plan = [\n",
    "    ('black', 5),  # 5 layers of black\n",
    "    ('blue',  2),  # 2 layers of blue\n",
    "    ('green', 3),  # 3 layers of green\n",
    "]\n",
    "\n",
    "# Helper functions for blending\n",
    "def composite_over(base_rgb, top_rgb, top_alpha):\n",
    "    return top_alpha * top_rgb + (1 - top_alpha) * base_rgb\n",
    "\n",
    "def effective_alpha(alpha_per_layer, thickness):\n",
    "    return 1 - (1 - alpha_per_layer) ** thickness\n",
    "\n",
    "def blend_stack(filaments, base_color, stack_plan):\n",
    "    current_rgb = np.array(base_color, dtype=float)\n",
    "    for name, thickness in stack_plan:\n",
    "        desc = filaments[name]\n",
    "        rgb = np.array(desc['rgb'], dtype=float)\n",
    "        per_layer_alpha = desc['alpha']\n",
    "        net_alpha = effective_alpha(per_layer_alpha, thickness)\n",
    "        current_rgb = composite_over(current_rgb, rgb, net_alpha)\n",
    "    return current_rgb\n",
    "\n",
    "# Compute the blended color\n",
    "blended = blend_stack(filaments, base_color, stack_plan)\n",
    "\n",
    "# 5) Show a side-by-side comparison of the blended vs. target\n",
    "fig1, axes = plt.subplots(1, 2, figsize=(4, 2))\n",
    "axes[0].imshow(np.ones((10,10,3)) * blended.reshape((1,1,3)))\n",
    "axes[0].set_title(\"Blended\")\n",
    "axes[1].imshow(np.ones((10,10,3)) * np.array(target_color).reshape((1,1,3)))\n",
    "axes[1].set_title(\"Target\")\n",
    "for ax in axes:\n",
    "    ax.axis('off')\n",
    "plt.tight_layout()\n",
    "plt.show()\n",
    "\n",
    "# 6) Visualize the stack from the side\n",
    "total_thickness = sum(thickness for name, thickness in stack_plan)\n",
    "fig2, ax2 = plt.subplots(figsize=(2, max(3, total_thickness / 3)))\n",
    "y_bottom = 0\n",
    "for name, thickness in stack_plan:\n",
    "    rgb = filaments[name]['rgb']\n",
    "    alpha = filaments[name]['alpha']\n",
    "    rect = plt.Rectangle((0, y_bottom), 1, thickness, color=(rgb[0], rgb[1], rgb[2], alpha))\n",
    "    ax2.add_patch(rect)\n",
    "    # Choose text color for readability (white on dark, black on light)\n",
    "    brightness = sum(rgb) / 3\n",
    "    text_color = 'white' if brightness < 0.5 else 'black'\n",
    "    ax2.text(0.5, y_bottom + thickness / 2, name, va='center', ha='center', color=text_color, fontsize=8)\n",
    "    y_bottom += thickness\n",
    "\n",
    "ax2.set_xlim(0, 1)\n",
    "ax2.set_ylim(0, total_thickness)\n",
    "ax2.axis('off')\n",
    "ax2.set_title(\"Side view of stack (thickness ∝ layers)\")\n",
    "plt.tight_layout()\n",
    "plt.show()\n"
   ]
  }
 ],
 "metadata": {
  "kernelspec": {
   "display_name": "Python 3",
   "language": "python",
   "name": "python3"
  },
  "language_info": {
   "codemirror_mode": {
    "name": "ipython",
    "version": 3
   },
   "file_extension": ".py",
   "mimetype": "text/x-python",
   "name": "python",
   "nbconvert_exporter": "python",
   "pygments_lexer": "ipython3",
   "version": "3.12.8"
  }
 },
 "nbformat": 4,
 "nbformat_minor": 5
}
